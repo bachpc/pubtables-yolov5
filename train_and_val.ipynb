{
 "cells": [
  {
   "cell_type": "code",
   "execution_count": 1,
   "id": "7a652306",
   "metadata": {},
   "outputs": [
    {
     "name": "stdout",
     "output_type": "stream",
     "text": [
      "/workspace/yolov5\n"
     ]
    }
   ],
   "source": [
    "%cd yolov5"
   ]
  },
  {
   "cell_type": "code",
   "execution_count": null,
   "id": "68d238c2",
   "metadata": {},
   "outputs": [],
   "source": [
    "!python train.py --batch-size -1 --data data/custom-structure.yaml --weights yolov5m.pt --img 640 --project PubTables-1M-YOLO --name yolov5m-custom-structure --hyp data/hyps/hyp.scratch-med.yaml --epochs 15 --device 0"
   ]
  },
  {
   "cell_type": "code",
   "execution_count": 14,
   "id": "b432c2b9",
   "metadata": {},
   "outputs": [
    {
     "name": "stdout",
     "output_type": "stream",
     "text": [
      "\u001b[34m\u001b[1mval: \u001b[0mdata=data/custom-structure.yaml, weights=['PubTables-1M-YOLO/yolov5m-custom-structure/weights/best.pt'], batch_size=256, imgsz=640, conf_thres=0.001, iou_thres=0.6, max_det=300, task=test, device=0, workers=8, single_cls=False, augment=False, verbose=False, save_txt=False, save_hybrid=False, save_conf=False, save_json=False, project=PubTables-1M-YOLO, name=yolov5m-custom-structure-val, exist_ok=False, half=False, dnn=False\n",
      "\u001b[31m\u001b[1mrequirements:\u001b[0m /workspace/requirements.txt not found, check failed.\n",
      "YOLOv5 🚀 v7.0-145-g94714fe Python-3.10.9 torch-2.0.0 CUDA:0 (NVIDIA GeForce RTX 4090, 24217MiB)\n",
      "\n",
      "Fusing layers... \n",
      "Model summary: 212 layers, 20873139 parameters, 0 gradients, 47.9 GFLOPs\n",
      "\u001b[34m\u001b[1mtest: \u001b[0mScanning /workspace/PubTables-1M/PubTables-1M-Structure-YOLO/labels/test.c\u001b[0m\n",
      "                 Class     Images  Instances          P          R      mAP50   \n",
      "                   all      93834    2220888      0.908       0.95      0.973      0.912\n",
      "                 table      93834      93834      0.973      0.971      0.992      0.991\n",
      "          table column      93834     514253      0.925      0.999      0.995      0.988\n",
      "             table row      93834    1255017      0.808      0.995       0.99      0.911\n",
      "   table column header      93834      86917       0.93      0.965      0.969      0.892\n",
      "table projected row header      93834      66439      0.947      0.895      0.955      0.859\n",
      "   table spanning cell      93834     204428      0.864      0.874      0.937      0.831\n",
      "Speed: 0.0ms pre-process, 1.4ms inference, 0.5ms NMS per image at shape (256, 3, 640, 640)\n",
      "Results saved to \u001b[1mPubTables-1M-YOLO/yolov5m-custom-structure-val\u001b[0m\n"
     ]
    }
   ],
   "source": [
    "!python val.py --batch-size 256 --data data/custom-structure.yaml --weights PubTables-1M-YOLO/yolov5m-custom-structure/weights/best.pt --img 640 --project PubTables-1M-YOLO --name yolov5m-custom-structure-val --task test --device 0"
   ]
  },
  {
   "cell_type": "code",
   "execution_count": 16,
   "id": "9da58eeb",
   "metadata": {
    "scrolled": true
   },
   "outputs": [
    {
     "name": "stdout",
     "output_type": "stream",
     "text": [
      "\u001b[34m\u001b[1mwandb\u001b[0m: WARNING ⚠️ wandb is deprecated and will be removed in a future release. See supported integrations at https://github.com/ultralytics/yolov5#integrations.\n",
      "\u001b[34m\u001b[1mwandb\u001b[0m: Currently logged in as: \u001b[33mbachpc\u001b[0m. Use \u001b[1m`wandb login --relogin`\u001b[0m to force relogin\n",
      "\u001b[34m\u001b[1mtrain: \u001b[0mweights=yolov5m.pt, cfg=, data=data/custom-detection.yaml, hyp=data/hyps/hyp.scratch-med.yaml, epochs=15, batch_size=-1, imgsz=640, rect=False, resume=False, nosave=False, noval=False, noautoanchor=False, noplots=False, evolve=None, bucket=, cache=None, image_weights=False, device=0, multi_scale=False, single_cls=False, optimizer=SGD, sync_bn=False, workers=8, project=PubTables-1M-YOLO, name=yolov5m-custom-detection, exist_ok=False, quad=False, cos_lr=False, label_smoothing=0.0, patience=100, freeze=[0], save_period=-1, seed=0, local_rank=-1, entity=None, upload_dataset=False, bbox_interval=-1, artifact_alias=latest\n",
      "remote: Enumerating objects: 13, done.\u001b[K\n",
      "remote: Counting objects: 100% (13/13), done.\u001b[K\n",
      "remote: Compressing objects: 100% (12/12), done.\u001b[K\n",
      "remote: Total 13 (delta 3), reused 7 (delta 1), pack-reused 0\u001b[K\n",
      "Unpacking objects: 100% (13/13), done.\n",
      "From https://github.com/ultralytics/yolov5\n",
      "   94714fe..aa7c45c  master              -> origin/master\n",
      " * [new branch]      snyk-fix-f0f134b5f11deaf5e04b4f3e6a161f60 -> origin/snyk-fix-f0f134b5f11deaf5e04b4f3e6a161f60\n",
      " * [new branch]      taliabender-patch-1 -> origin/taliabender-patch-1\n",
      "\u001b[34m\u001b[1mgithub: \u001b[0m⚠️ YOLOv5 is out of date by 2 commits. Use 'git pull' or 'git clone https://github.com/ultralytics/yolov5' to update.\n",
      "\u001b[31m\u001b[1mrequirements:\u001b[0m /workspace/requirements.txt not found, check failed.\n",
      "YOLOv5 🚀 v7.0-145-g94714fe Python-3.10.9 torch-2.0.0 CUDA:0 (NVIDIA GeForce RTX 4090, 24217MiB)\n",
      "\n",
      "\u001b[34m\u001b[1mhyperparameters: \u001b[0mlr0=0.01, lrf=0.1, momentum=0.937, weight_decay=0.0005, warmup_epochs=3.0, warmup_momentum=0.8, warmup_bias_lr=0.1, box=0.05, cls=0.3, cls_pw=1.0, obj=0.7, obj_pw=1.0, iou_t=0.2, anchor_t=4.0, fl_gamma=0.0, hsv_h=0.015, hsv_s=0.7, hsv_v=0.4, degrees=0.0, translate=0.1, scale=0.9, shear=0.0, perspective=0.0, flipud=0.0, fliplr=0.5, mosaic=1.0, mixup=0.1, copy_paste=0.0\n",
      "\u001b[34m\u001b[1mClearML: \u001b[0mrun 'pip install clearml' to automatically track, visualize and remotely train YOLOv5 🚀 in ClearML\n",
      "\u001b[34m\u001b[1mComet: \u001b[0mrun 'pip install comet_ml' to automatically track and visualize YOLOv5 🚀 runs in Comet\n",
      "\u001b[34m\u001b[1mTensorBoard: \u001b[0mStart with 'tensorboard --logdir PubTables-1M-YOLO', view at http://localhost:6006/\n",
      "\u001b[34m\u001b[1mwandb\u001b[0m: Tracking run with wandb version 0.14.2\n",
      "\u001b[34m\u001b[1mwandb\u001b[0m: Run data is saved locally in \u001b[35m\u001b[1m/workspace/yolov5/wandb/run-20230419_221252-oyyybbwk\u001b[0m\n",
      "\u001b[34m\u001b[1mwandb\u001b[0m: Run \u001b[1m`wandb offline`\u001b[0m to turn off syncing.\n",
      "\u001b[34m\u001b[1mwandb\u001b[0m: Syncing run \u001b[33myolov5m-custom-detection\u001b[0m\n",
      "\u001b[34m\u001b[1mwandb\u001b[0m: ⭐️ View project at \u001b[34m\u001b[4mhttps://wandb.ai/bachpc/PubTables-1M-YOLO\u001b[0m\n",
      "\u001b[34m\u001b[1mwandb\u001b[0m: 🚀 View run at \u001b[34m\u001b[4mhttps://wandb.ai/bachpc/PubTables-1M-YOLO/runs/oyyybbwk\u001b[0m\n",
      "Overriding model.yaml nc=80 with nc=2\n",
      "\n",
      "                 from  n    params  module                                  arguments                     \n",
      "  0                -1  1      5280  models.common.Conv                      [3, 48, 6, 2, 2]              \n",
      "  1                -1  1     41664  models.common.Conv                      [48, 96, 3, 2]                \n",
      "  2                -1  2     65280  models.common.C3                        [96, 96, 2]                   \n",
      "  3                -1  1    166272  models.common.Conv                      [96, 192, 3, 2]               \n",
      "  4                -1  4    444672  models.common.C3                        [192, 192, 4]                 \n",
      "  5                -1  1    664320  models.common.Conv                      [192, 384, 3, 2]              \n",
      "  6                -1  6   2512896  models.common.C3                        [384, 384, 6]                 \n",
      "  7                -1  1   2655744  models.common.Conv                      [384, 768, 3, 2]              \n",
      "  8                -1  2   4134912  models.common.C3                        [768, 768, 2]                 \n",
      "  9                -1  1   1476864  models.common.SPPF                      [768, 768, 5]                 \n",
      " 10                -1  1    295680  models.common.Conv                      [768, 384, 1, 1]              \n",
      " 11                -1  1         0  torch.nn.modules.upsampling.Upsample    [None, 2, 'nearest']          \n",
      " 12           [-1, 6]  1         0  models.common.Concat                    [1]                           \n",
      " 13                -1  2   1182720  models.common.C3                        [768, 384, 2, False]          \n",
      " 14                -1  1     74112  models.common.Conv                      [384, 192, 1, 1]              \n",
      " 15                -1  1         0  torch.nn.modules.upsampling.Upsample    [None, 2, 'nearest']          \n",
      " 16           [-1, 4]  1         0  models.common.Concat                    [1]                           \n",
      " 17                -1  2    296448  models.common.C3                        [384, 192, 2, False]          \n",
      " 18                -1  1    332160  models.common.Conv                      [192, 192, 3, 2]              \n",
      " 19          [-1, 14]  1         0  models.common.Concat                    [1]                           \n",
      " 20                -1  2   1035264  models.common.C3                        [384, 384, 2, False]          \n",
      " 21                -1  1   1327872  models.common.Conv                      [384, 384, 3, 2]              \n",
      " 22          [-1, 10]  1         0  models.common.Concat                    [1]                           \n",
      " 23                -1  2   4134912  models.common.C3                        [768, 768, 2, False]          \n",
      " 24      [17, 20, 23]  1     28287  models.yolo.Detect                      [2, [[10, 13, 16, 30, 33, 23], [30, 61, 62, 45, 59, 119], [116, 90, 156, 198, 373, 326]], [192, 384, 768]]\n",
      "Model summary: 291 layers, 20875359 parameters, 20875359 gradients, 48.2 GFLOPs\n",
      "\n",
      "Transferred 475/481 items from yolov5m.pt\n",
      "\u001b[34m\u001b[1mAMP: \u001b[0mchecks passed ✅\n",
      "\u001b[34m\u001b[1mAutoBatch: \u001b[0mComputing optimal batch size for --imgsz 640\n",
      "\u001b[34m\u001b[1mAutoBatch: \u001b[0mCUDA:0 (NVIDIA GeForce RTX 4090) 23.65G total, 0.35G reserved, 0.16G allocated, 23.14G free\n",
      "      Params      GFLOPs  GPU_mem (GB)  forward (ms) backward (ms)                   input                  output\n",
      "    20875359       48.23         0.721         29.14         18.14        (1, 3, 640, 640)                    list\n",
      "    20875359       96.46         0.996         14.66         17.68        (2, 3, 640, 640)                    list\n",
      "    20875359       192.9         1.556         12.96         23.36        (4, 3, 640, 640)                    list\n",
      "    20875359       385.9         3.001         20.72         37.05        (8, 3, 640, 640)                    list\n",
      "    20875359       771.7         5.339         39.47         71.21       (16, 3, 640, 640)                    list\n",
      "\u001b[34m\u001b[1mAutoBatch: \u001b[0mUsing batch-size 58 for CUDA:0 18.98G/23.65G (80%) ✅\n",
      "\u001b[34m\u001b[1moptimizer:\u001b[0m SGD(lr=0.01) with parameter groups 79 weight(decay=0.0), 82 weight(decay=0.000453125), 82 bias\n",
      "\u001b[34m\u001b[1malbumentations: \u001b[0mBlur(p=0.01, blur_limit=(3, 7)), MedianBlur(p=0.01, blur_limit=(3, 7)), ToGray(p=0.01), CLAHE(p=0.01, clip_limit=(1, 4.0), tile_grid_size=(8, 8))\n",
      "\u001b[34m\u001b[1mtrain: \u001b[0mScanning /workspace/PubTables-1M/PubTables-1M-Detection-YOLO/labels/train\u001b[0m\n",
      "\u001b[34m\u001b[1mtrain: \u001b[0mWARNING ⚠️ /workspace/PubTables-1M/PubTables-1M-Detection-YOLO/images/train/PMC1618389_6.jpg: 1 duplicate labels removed\n",
      "\u001b[34m\u001b[1mtrain: \u001b[0mWARNING ⚠️ /workspace/PubTables-1M/PubTables-1M-Detection-YOLO/images/train/PMC2649131_2.jpg: 1 duplicate labels removed\n",
      "\u001b[34m\u001b[1mtrain: \u001b[0mWARNING ⚠️ /workspace/PubTables-1M/PubTables-1M-Detection-YOLO/images/train/PMC2829587_2.jpg: 1 duplicate labels removed\n",
      "\u001b[34m\u001b[1mtrain: \u001b[0mWARNING ⚠️ /workspace/PubTables-1M/PubTables-1M-Detection-YOLO/images/train/PMC2864280_7.jpg: 1 duplicate labels removed\n",
      "\u001b[34m\u001b[1mtrain: \u001b[0mWARNING ⚠️ /workspace/PubTables-1M/PubTables-1M-Detection-YOLO/images/train/PMC3039573_2.jpg: 1 duplicate labels removed\n",
      "\u001b[34m\u001b[1mtrain: \u001b[0mWARNING ⚠️ /workspace/PubTables-1M/PubTables-1M-Detection-YOLO/images/train/PMC3141432_6.jpg: 1 duplicate labels removed\n",
      "\u001b[34m\u001b[1mtrain: \u001b[0mWARNING ⚠️ /workspace/PubTables-1M/PubTables-1M-Detection-YOLO/images/train/PMC3201032_5.jpg: 1 duplicate labels removed\n",
      "\u001b[34m\u001b[1mtrain: \u001b[0mWARNING ⚠️ /workspace/PubTables-1M/PubTables-1M-Detection-YOLO/images/train/PMC3646877_4.jpg: 1 duplicate labels removed\n",
      "\u001b[34m\u001b[1mtrain: \u001b[0mWARNING ⚠️ /workspace/PubTables-1M/PubTables-1M-Detection-YOLO/images/train/PMC4344239_6.jpg: 1 duplicate labels removed\n",
      "\u001b[34m\u001b[1mtrain: \u001b[0mWARNING ⚠️ /workspace/PubTables-1M/PubTables-1M-Detection-YOLO/images/train/PMC4373176_12.jpg: 1 duplicate labels removed\n",
      "\u001b[34m\u001b[1mtrain: \u001b[0mWARNING ⚠️ /workspace/PubTables-1M/PubTables-1M-Detection-YOLO/images/train/PMC4472690_15.jpg: 1 duplicate labels removed\n",
      "\u001b[34m\u001b[1mtrain: \u001b[0mWARNING ⚠️ /workspace/PubTables-1M/PubTables-1M-Detection-YOLO/images/train/PMC4509128_2.jpg: 1 duplicate labels removed\n",
      "\u001b[34m\u001b[1mtrain: \u001b[0mWARNING ⚠️ /workspace/PubTables-1M/PubTables-1M-Detection-YOLO/images/train/PMC4629279_16.jpg: 1 duplicate labels removed\n",
      "\u001b[34m\u001b[1mtrain: \u001b[0mWARNING ⚠️ /workspace/PubTables-1M/PubTables-1M-Detection-YOLO/images/train/PMC4662825_7.jpg: 1 duplicate labels removed\n",
      "\u001b[34m\u001b[1mtrain: \u001b[0mWARNING ⚠️ /workspace/PubTables-1M/PubTables-1M-Detection-YOLO/images/train/PMC4713433_10.jpg: 1 duplicate labels removed\n",
      "\u001b[34m\u001b[1mtrain: \u001b[0mWARNING ⚠️ /workspace/PubTables-1M/PubTables-1M-Detection-YOLO/images/train/PMC4724129_9.jpg: 4 duplicate labels removed\n",
      "\u001b[34m\u001b[1mtrain: \u001b[0mWARNING ⚠️ /workspace/PubTables-1M/PubTables-1M-Detection-YOLO/images/train/PMC4802914_4.jpg: 1 duplicate labels removed\n",
      "\u001b[34m\u001b[1mtrain: \u001b[0mWARNING ⚠️ /workspace/PubTables-1M/PubTables-1M-Detection-YOLO/images/train/PMC4835428_15.jpg: 1 duplicate labels removed\n",
      "\u001b[34m\u001b[1mtrain: \u001b[0mWARNING ⚠️ /workspace/PubTables-1M/PubTables-1M-Detection-YOLO/images/train/PMC4872914_2.jpg: 1 duplicate labels removed\n",
      "\u001b[34m\u001b[1mtrain: \u001b[0mWARNING ⚠️ /workspace/PubTables-1M/PubTables-1M-Detection-YOLO/images/train/PMC5045201_11.jpg: 1 duplicate labels removed\n",
      "\u001b[34m\u001b[1mtrain: \u001b[0mWARNING ⚠️ /workspace/PubTables-1M/PubTables-1M-Detection-YOLO/images/train/PMC5071777_4.jpg: 1 duplicate labels removed\n",
      "\u001b[34m\u001b[1mtrain: \u001b[0mWARNING ⚠️ /workspace/PubTables-1M/PubTables-1M-Detection-YOLO/images/train/PMC5072565_7.jpg: 1 duplicate labels removed\n",
      "\u001b[34m\u001b[1mtrain: \u001b[0mWARNING ⚠️ /workspace/PubTables-1M/PubTables-1M-Detection-YOLO/images/train/PMC5160015_13.jpg: 1 duplicate labels removed\n",
      "\u001b[34m\u001b[1mtrain: \u001b[0mWARNING ⚠️ /workspace/PubTables-1M/PubTables-1M-Detection-YOLO/images/train/PMC5685774_3.jpg: 1 duplicate labels removed\n",
      "\u001b[34m\u001b[1mtrain: \u001b[0mWARNING ⚠️ /workspace/PubTables-1M/PubTables-1M-Detection-YOLO/images/train/PMC5722116_2.jpg: 1 duplicate labels removed\n",
      "\u001b[34m\u001b[1mtrain: \u001b[0mWARNING ⚠️ /workspace/PubTables-1M/PubTables-1M-Detection-YOLO/images/train/PMC5765122_10.jpg: 1 duplicate labels removed\n",
      "\u001b[34m\u001b[1mtrain: \u001b[0mWARNING ⚠️ /workspace/PubTables-1M/PubTables-1M-Detection-YOLO/images/train/PMC5774682_20.jpg: 1 duplicate labels removed\n",
      "\u001b[34m\u001b[1mtrain: \u001b[0mWARNING ⚠️ /workspace/PubTables-1M/PubTables-1M-Detection-YOLO/images/train/PMC5774682_7.jpg: 1 duplicate labels removed\n",
      "\u001b[34m\u001b[1mtrain: \u001b[0mWARNING ⚠️ /workspace/PubTables-1M/PubTables-1M-Detection-YOLO/images/train/PMC5821375_10.jpg: 1 duplicate labels removed\n",
      "\u001b[34m\u001b[1mtrain: \u001b[0mWARNING ⚠️ /workspace/PubTables-1M/PubTables-1M-Detection-YOLO/images/train/PMC5843206_3.jpg: 7 duplicate labels removed\n",
      "\u001b[34m\u001b[1mtrain: \u001b[0mWARNING ⚠️ /workspace/PubTables-1M/PubTables-1M-Detection-YOLO/images/train/PMC5847335_25.jpg: 1 duplicate labels removed\n",
      "\u001b[34m\u001b[1mtrain: \u001b[0mWARNING ⚠️ /workspace/PubTables-1M/PubTables-1M-Detection-YOLO/images/train/PMC5854617_7.jpg: 1 duplicate labels removed\n",
      "\u001b[34m\u001b[1mtrain: \u001b[0mWARNING ⚠️ /workspace/PubTables-1M/PubTables-1M-Detection-YOLO/images/train/PMC6002790_2.jpg: 1 duplicate labels removed\n",
      "\u001b[34m\u001b[1mtrain: \u001b[0mWARNING ⚠️ /workspace/PubTables-1M/PubTables-1M-Detection-YOLO/images/train/PMC6016034_18.jpg: 1 duplicate labels removed\n",
      "\u001b[34m\u001b[1mtrain: \u001b[0mWARNING ⚠️ /workspace/PubTables-1M/PubTables-1M-Detection-YOLO/images/train/PMC6057663_6.jpg: 1 duplicate labels removed\n",
      "\u001b[34m\u001b[1mtrain: \u001b[0mWARNING ⚠️ /workspace/PubTables-1M/PubTables-1M-Detection-YOLO/images/train/PMC6203976_11.jpg: 1 duplicate labels removed\n",
      "\u001b[34m\u001b[1mtrain: \u001b[0mWARNING ⚠️ /workspace/PubTables-1M/PubTables-1M-Detection-YOLO/images/train/PMC6266563_10.jpg: 1 duplicate labels removed\n",
      "\u001b[34m\u001b[1mtrain: \u001b[0mWARNING ⚠️ /workspace/PubTables-1M/PubTables-1M-Detection-YOLO/images/train/PMC6267304_10.jpg: 1 duplicate labels removed\n",
      "\u001b[34m\u001b[1mtrain: \u001b[0mWARNING ⚠️ /workspace/PubTables-1M/PubTables-1M-Detection-YOLO/images/train/PMC6269725_4.jpg: 1 duplicate labels removed\n",
      "\u001b[34m\u001b[1mtrain: \u001b[0mWARNING ⚠️ /workspace/PubTables-1M/PubTables-1M-Detection-YOLO/images/train/PMC6270240_3.jpg: 1 duplicate labels removed\n",
      "\u001b[34m\u001b[1mtrain: \u001b[0mWARNING ⚠️ /workspace/PubTables-1M/PubTables-1M-Detection-YOLO/images/train/PMC6283570_39.jpg: 1 duplicate labels removed\n",
      "\u001b[34m\u001b[1mtrain: \u001b[0mWARNING ⚠️ /workspace/PubTables-1M/PubTables-1M-Detection-YOLO/images/train/PMC6334325_4.jpg: 1 duplicate labels removed\n",
      "\u001b[34m\u001b[1mtrain: \u001b[0mWARNING ⚠️ /workspace/PubTables-1M/PubTables-1M-Detection-YOLO/images/train/PMC6345844_9.jpg: 2 duplicate labels removed\n",
      "\u001b[34m\u001b[1mtrain: \u001b[0mWARNING ⚠️ /workspace/PubTables-1M/PubTables-1M-Detection-YOLO/images/train/PMC6435239_5.jpg: 1 duplicate labels removed\n",
      "\u001b[34m\u001b[1mtrain: \u001b[0mWARNING ⚠️ /workspace/PubTables-1M/PubTables-1M-Detection-YOLO/images/train/PMC6477107_1.jpg: 1 duplicate labels removed\n",
      "\u001b[34m\u001b[1mtrain: \u001b[0mWARNING ⚠️ /workspace/PubTables-1M/PubTables-1M-Detection-YOLO/images/train/PMC6498461_2.jpg: 1 duplicate labels removed\n",
      "\u001b[34m\u001b[1mtrain: \u001b[0mWARNING ⚠️ /workspace/PubTables-1M/PubTables-1M-Detection-YOLO/images/train/PMC6513552_10.jpg: 1 duplicate labels removed\n"
     ]
    },
    {
     "name": "stdout",
     "output_type": "stream",
     "text": [
      "\u001b[34m\u001b[1mtrain: \u001b[0mNew cache created: /workspace/PubTables-1M/PubTables-1M-Detection-YOLO/labels/train.cache\n",
      "\u001b[34m\u001b[1mval: \u001b[0mScanning /workspace/PubTables-1M/PubTables-1M-Detection-YOLO/labels/val... \u001b[0m\n",
      "\u001b[34m\u001b[1mval: \u001b[0mWARNING ⚠️ /workspace/PubTables-1M/PubTables-1M-Detection-YOLO/images/val/PMC4476684_11.jpg: 1 duplicate labels removed\n",
      "\u001b[34m\u001b[1mval: \u001b[0mWARNING ⚠️ /workspace/PubTables-1M/PubTables-1M-Detection-YOLO/images/val/PMC4961715_9.jpg: 1 duplicate labels removed\n",
      "\u001b[34m\u001b[1mval: \u001b[0mNew cache created: /workspace/PubTables-1M/PubTables-1M-Detection-YOLO/labels/val.cache\n",
      "\n",
      "\u001b[34m\u001b[1mAutoAnchor: \u001b[0m3.08 anchors/target, 0.998 Best Possible Recall (BPR). Current anchors are a good fit to dataset ✅\n",
      "Plotting labels to PubTables-1M-YOLO/yolov5m-custom-detection/labels.jpg... \n",
      "Image sizes 640 train, 640 val\n",
      "Using 8 dataloader workers\n",
      "Logging results to \u001b[1mPubTables-1M-YOLO/yolov5m-custom-detection\u001b[0m\n",
      "Starting training for 15 epochs...\n",
      "\n",
      "      Epoch    GPU_mem   box_loss   obj_loss   cls_loss  Instances       Size\n",
      "       0/14      21.3G    0.02938   0.008416   0.001108         24        640: 1\n",
      "                 Class     Images  Instances          P          R      mAP50   \n",
      "                   all      57591      68474       0.99      0.989      0.993      0.923\n",
      "\n",
      "      Epoch    GPU_mem   box_loss   obj_loss   cls_loss  Instances       Size\n",
      "       1/14      23.4G     0.0176    0.00484  0.0002214         32        640: 1\n",
      "                 Class     Images  Instances          P          R      mAP50   \n",
      "                   all      57591      68474      0.995      0.992      0.994      0.975\n",
      "\n",
      "      Epoch    GPU_mem   box_loss   obj_loss   cls_loss  Instances       Size\n",
      "       2/14      23.4G    0.01523   0.004466  0.0001466        170        640:  "
     ]
    }
   ],
   "source": [
    "!python train.py --batch-size -1 --data data/custom-detection.yaml --weights yolov5m.pt --img 640 --project PubTables-1M-YOLO --name yolov5m-custom-detection --hyp data/hyps/hyp.scratch-med.yaml --epochs 15 --device 0"
   ]
  },
  {
   "cell_type": "code",
   "execution_count": 3,
   "id": "ba3bcf9e",
   "metadata": {},
   "outputs": [
    {
     "name": "stdout",
     "output_type": "stream",
     "text": [
      "\u001b[34m\u001b[1mval: \u001b[0mdata=data/custom-detection.yaml, weights=['PubTables-1M-YOLO/yolov5m-custom-detection/weights/best.pt'], batch_size=256, imgsz=640, conf_thres=0.001, iou_thres=0.6, max_det=300, task=test, device=0, workers=8, single_cls=False, augment=False, verbose=False, save_txt=False, save_hybrid=False, save_conf=False, save_json=False, project=PubTables-1M-YOLO, name=yolov5m-custom-detection-val, exist_ok=False, half=False, dnn=False\n",
      "\u001b[31m\u001b[1mrequirements:\u001b[0m /workspace/requirements.txt not found, check failed.\n",
      "YOLOv5 🚀 v7.0-145-g94714fe Python-3.10.9 torch-2.0.0 CUDA:0 (NVIDIA GeForce RTX 4090, 24217MiB)\n",
      "\n",
      "Fusing layers... \n",
      "Model summary: 212 layers, 20856975 parameters, 0 gradients, 47.9 GFLOPs\n",
      "\u001b[34m\u001b[1mtest: \u001b[0mScanning /workspace/PubTables-1M/PubTables-1M-Detection-YOLO/labels/test.c\u001b[0m\n",
      "\u001b[34m\u001b[1mtest: \u001b[0mWARNING ⚠️ /workspace/PubTables-1M/PubTables-1M-Detection-YOLO/images/test/PMC2817860_3.jpg: 1 duplicate labels removed\n",
      "\u001b[34m\u001b[1mtest: \u001b[0mWARNING ⚠️ /workspace/PubTables-1M/PubTables-1M-Detection-YOLO/images/test/PMC3039408_6.jpg: 1 duplicate labels removed\n",
      "\u001b[34m\u001b[1mtest: \u001b[0mWARNING ⚠️ /workspace/PubTables-1M/PubTables-1M-Detection-YOLO/images/test/PMC3415468_13.jpg: 1 duplicate labels removed\n",
      "\u001b[34m\u001b[1mtest: \u001b[0mWARNING ⚠️ /workspace/PubTables-1M/PubTables-1M-Detection-YOLO/images/test/PMC3576625_10.jpg: 14 duplicate labels removed\n",
      "\u001b[34m\u001b[1mtest: \u001b[0mWARNING ⚠️ /workspace/PubTables-1M/PubTables-1M-Detection-YOLO/images/test/PMC3686582_7.jpg: 2 duplicate labels removed\n",
      "\u001b[34m\u001b[1mtest: \u001b[0mWARNING ⚠️ /workspace/PubTables-1M/PubTables-1M-Detection-YOLO/images/test/PMC4948083_2.jpg: 1 duplicate labels removed\n",
      "\u001b[34m\u001b[1mtest: \u001b[0mWARNING ⚠️ /workspace/PubTables-1M/PubTables-1M-Detection-YOLO/images/test/PMC6014042_3.jpg: 1 duplicate labels removed\n",
      "\u001b[34m\u001b[1mtest: \u001b[0mWARNING ⚠️ /workspace/PubTables-1M/PubTables-1M-Detection-YOLO/images/test/PMC6147433_2.jpg: 1 duplicate labels removed\n",
      "                 Class     Images  Instances          P          R      mAP50   \n",
      "                   all      57125      68015      0.998      0.999      0.995      0.988\n",
      "                 table      57125      67562      0.999      0.997      0.995      0.994\n",
      "         table rotated      57125        453      0.998          1      0.995      0.983\n",
      "Speed: 0.1ms pre-process, 2.1ms inference, 0.5ms NMS per image at shape (256, 3, 640, 640)\n",
      "Results saved to \u001b[1mPubTables-1M-YOLO/yolov5m-custom-detection-val\u001b[0m\n"
     ]
    }
   ],
   "source": [
    "!python val.py --batch-size 256 --data data/custom-detection.yaml --weights PubTables-1M-YOLO/yolov5m-custom-detection/weights/best.pt --project PubTables-1M-YOLO --name yolov5m-custom-detection-val --img 640 --task test --device 0"
   ]
  },
  {
   "cell_type": "code",
   "execution_count": null,
   "id": "f60e8e00",
   "metadata": {},
   "outputs": [],
   "source": []
  }
 ],
 "metadata": {
  "kernelspec": {
   "display_name": "Python 3 (ipykernel)",
   "language": "python",
   "name": "python3"
  },
  "language_info": {
   "codemirror_mode": {
    "name": "ipython",
    "version": 3
   },
   "file_extension": ".py",
   "mimetype": "text/x-python",
   "name": "python",
   "nbconvert_exporter": "python",
   "pygments_lexer": "ipython3",
   "version": "3.10.9"
  }
 },
 "nbformat": 4,
 "nbformat_minor": 5
}
